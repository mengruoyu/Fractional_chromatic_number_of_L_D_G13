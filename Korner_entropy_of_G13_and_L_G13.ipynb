{
 "cells": [
  {
   "cell_type": "code",
   "execution_count": 1,
   "id": "783e6afa",
   "metadata": {},
   "outputs": [],
   "source": [
    "load('graph_entropy.py')\n",
    "load('ge_visualize.sage') \n",
    "np.set_printoptions(threshold=np.inf)\n",
    "import numpy as np\n",
    "np.set_printoptions(threshold=sys.maxsize)\n",
    "from sage.graphs.graph_coloring import first_coloring \n",
    "import math\n",
    "import networkx as nx\n",
    "import matplotlib.pyplot as plt\n",
    "\n",
    "# Generate formatted vertex labels in the construction of directed line graph\n",
    "# Input: Vertices e1 and e2 where e1-e2 forms a directed 2-walk in the original graph\n",
    "# Output: Vertex label used in the directed line graph of format \"[e1,e2]\"\n",
    "def vertex_name(e1, e2):\n",
    "    return \"[\" + str(e1) + \",\" + str(e2) + \"]\"\n",
    "\n",
    "\n",
    "# Construct the directed line graph of a directed graph G\n",
    "# Input: A directed graph G. \n",
    "#        It must be a directed graph. Otherwise, we will throw a ValueError and return None.\n",
    "# Output: The directed line graph of G. \n",
    "def directed_line_graph(G): \n",
    "    try:\n",
    "        if not G.is_directed():\n",
    "            raise ValueError()\n",
    "    except ValueError:\n",
    "        print(\"ValueError: G must be directed. Returning None.\")\n",
    "        return None\n",
    "    E = G.edges() \n",
    "    adjacency_list = {}\n",
    "    for e1, e2, v in E:\n",
    "        neighbor = []\n",
    "        for e3, e4, u in E:\n",
    "            if not (str(e1) == str(e3) and str(e2) == str(e4)) and (str(e1) == str(e4) or str(e2) == str(e3)):\n",
    "                neighbor.append(vertex_name(e3,e4))\n",
    "            \n",
    "        adjacency_list[vertex_name(e1,e2)] = neighbor\n",
    "    G = Graph(adjacency_list)\n",
    "    return G\n",
    "\n",
    "# Calculate and return the dot product of two vectors a and b.\n",
    "def dot_product(a, b):\n",
    "    return sum(x*y for x, y in zip(a, b))\n",
    "\n",
    "# Determine if two vectors are orthogonal, considering a numerical error threshold epsilon.\n",
    "def is_orthogonal(a, b, epsilon=1e-10):\n",
    "    return abs(dot_product(a, b)) < epsilon\n",
    "\n",
    "\n",
    "# Convert a vector to its string representation.\n",
    "def vector_to_str(vector):\n",
    "    return str(vector)\n",
    "\n",
    "# Find all orthogonal pairs of vectors in the input and return a dictionary of these pairs\n",
    "# Input: A list of vectors\n",
    "# Output: A dictionary, the key is each vector in the input. \n",
    "#         The value of each key is a list containing all vectors orthogonal to the key.\n",
    "def find_orthogonal_vectors(vectors, epsilon=1e-10):\n",
    "    orthogonal_vectors = {}  # Initialize the dictionary to store the result\n",
    "    \n",
    "    # Iterate over each vector in the input list\n",
    "    for i, v_i in enumerate(vectors):\n",
    "        orthogonal_list = []  # List to store vectors orthogonal to v_i\n",
    "        \n",
    "        # Check orthogonality with every other vector, considering epsilon\n",
    "        for j, v_j in enumerate(vectors):\n",
    "            if i != j and is_orthogonal(v_i, v_j, epsilon):  # If orthogonal within epsilon\n",
    "                orthogonal_list.append(vector_to_str(v_j))  # Add to the list of orthogonal vectors\n",
    "        \n",
    "        # Map the current vector to its list of orthogonal vectors\n",
    "        orthogonal_vectors[vector_to_str(v_i)] = orthogonal_list\n",
    "    \n",
    "    # Convert tuples back to lists for the final output\n",
    "    return orthogonal_vectors \n",
    "\n",
    "\n",
    "\n",
    "\n",
    "# Determine if the fractional coloring is exactly 3 and all constraint are satisfied without numerical error.\n",
    "# We use integer arithmetic to avoid the numerical error.\n",
    "# Input: vertices: the vertex set  \n",
    "#        denominator: The denominator explained in the end of Chunk 5\n",
    "#        enumerators: The enumerators explained in the end of Chunk 5\n",
    "#\n",
    "# Output: False if some constraint is violated or the value is not exactly 3\n",
    "#         True if it passes all checking.\n",
    "def check(vertices, enumerators, denominator):\n",
    "    succ = True\n",
    "    \n",
    "    #This loop checks that Mx >= 1 is true, by checking each row is satisfied.\n",
    "    for v in vertices:\n",
    "        val = int(0) \n",
    "        for row in enumerators:\n",
    "            # sum up all X_I s.t. v is in the set I \n",
    "            if v in row[\"ind_set\"]:\n",
    "                val = val + int(row[\"weight\"])\n",
    "                \n",
    "        # If the value is less than k, one constraint is violated.        \n",
    "        if val < denominator:\n",
    "            print(\"A constraint is not satisfied:\")\n",
    "            print(v)\n",
    "            print(val)\n",
    "            succ = False\n",
    "            break\n",
    "    val = int(0)\n",
    "    for row in enumerators:\n",
    "        val = val + int(row[\"weight\"]) \n",
    "    for v in vertices:\n",
    "        val = val\n",
    "    if val != int(3 * denominator):\n",
    "        print(\"The value is not exact:\")\n",
    "        print(\"3 * denominator: \", int(3 * denominator) )\n",
    "        print(\"sum: \",val)\n",
    "        succ = False \n",
    "    return succ"
   ]
  },
  {
   "cell_type": "markdown",
   "id": "36f2afd2",
   "metadata": {},
   "source": [
    "# Numerical Calculation of Korner's Entropy\n",
    "\n",
    "We uses the algorithm provided by Harangi, Niu and Bai for calculation of Korner's Entropy of a graph $\\chi_{\\kappa}(G)$.\n",
    "They have provided an excellent tutorial (link: https://www.renyi.hu/~harangi/ge.htm)\n",
    "\n",
    "We point out that the log base used in their code is the natural log.\n",
    "\n",
    "For example, suppose we have a complete graph of 2 vertices $K_2$ where $p_X(x)$ is uniform. Then $\\chi_{\\kappa}(G) = \\log_2(2)=1$. The algorithm outputs:"
   ]
  },
  {
   "cell_type": "code",
   "execution_count": 2,
   "id": "27022570",
   "metadata": {},
   "outputs": [
    {
     "name": "stdout",
     "output_type": "stream",
     "text": [
      "20 iterations made (max: 10000)\n",
      "Graph Entropy:\n",
      "0.6931471805599453 (error bound: 0.0e+00)\n"
     ]
    },
    {
     "data": {
      "text/plain": [
       "(0.6931471805599453, 0.0)"
      ]
     },
     "execution_count": 2,
     "metadata": {},
     "output_type": "execute_result"
    }
   ],
   "source": [
    "\n",
    "G = nx.Graph()\n",
    "G.add_node('A')\n",
    "G.add_node('B') \n",
    "G.add_edge('A','B') \n",
    "ge=GraphEntropy(find_ind_sets(G))\n",
    "ge.set_uniform_p()\n",
    "ge.verbose_mode=True\n",
    "ge.alt_opt()"
   ]
  },
  {
   "cell_type": "code",
   "execution_count": 3,
   "id": "2bd3e0a4",
   "metadata": {},
   "outputs": [
    {
     "name": "stdout",
     "output_type": "stream",
     "text": [
      "We note that 0.6931471805599453 / ln(2) = 1.0\n",
      "log_2(2) =  1.0\n"
     ]
    }
   ],
   "source": [
    "print('We note that 0.6931471805599453 / ln(2) =', 0.6931471805599453 / math.log(2))\n",
    "print('log_2(2) = ', math.log(2)/math.log(2))"
   ]
  },
  {
   "cell_type": "markdown",
   "id": "91256342",
   "metadata": {},
   "source": [
    "# Korner Entropy of $G_{13}$"
   ]
  },
  {
   "cell_type": "code",
   "execution_count": 4,
   "id": "97d9d0da",
   "metadata": {},
   "outputs": [],
   "source": [
    "\n",
    "G = nx.Graph()\n",
    "G.add_node('A')\n",
    "G.add_node('B')\n",
    "G.add_node('C')\n",
    "\n",
    "G.add_node('M')\n",
    "G.add_node('L')\n",
    "G.add_node('N')\n",
    "G.add_node('P')\n",
    "G.add_node('Q')\n",
    "G.add_node('R')\n",
    "\n",
    "G.add_node('X')\n",
    "G.add_node('Y')\n",
    "G.add_node('Z')\n",
    "G.add_node('W')\n",
    "\n",
    "G.add_edge('A', 'B')\n",
    "G.add_edge('A', 'C')\n",
    "G.add_edge('C', 'B')\n",
    "\n",
    "\n",
    "G.add_edge('A', 'M')\n",
    "G.add_edge('A', 'L')\n",
    "G.add_edge('M', 'L')\n",
    "\n",
    "G.add_edge('C', 'R')\n",
    "G.add_edge('C', 'Q')\n",
    "G.add_edge('Q', 'R')\n",
    "\n",
    "G.add_edge('N', 'B')\n",
    "G.add_edge('P', 'B')\n",
    "G.add_edge('N', 'P')\n",
    "\n",
    "G.add_edge('X', 'L')\n",
    "G.add_edge('X', 'Q')\n",
    "G.add_edge('X', 'P')\n",
    "\n",
    "G.add_edge('Y', 'N')\n",
    "G.add_edge('Y', 'L')\n",
    "G.add_edge('Y', 'R')\n",
    "\n",
    "G.add_edge('Z', 'M')\n",
    "G.add_edge('Z', 'N')\n",
    "G.add_edge('Z', 'Q')\n",
    "\n",
    "G.add_edge('W', 'M')\n",
    "G.add_edge('W', 'P')\n",
    "G.add_edge('W', 'R')\n"
   ]
  },
  {
   "cell_type": "code",
   "execution_count": 5,
   "id": "41fa7f89",
   "metadata": {},
   "outputs": [
    {
     "name": "stdout",
     "output_type": "stream",
     "text": [
      "4 sets deleted after 40 iterations: {4,5,8} {4,6,7} {3,6,8} {3,5,7}\n",
      "12 sets deleted after 90 iterations\n",
      "320 iterations made (max: 10000)\n",
      "Graph Entropy:\n",
      "1.140907878528764 (error bound: 3.1e-09)\n"
     ]
    },
    {
     "data": {
      "text/plain": [
       "(1.140907878528764, 3.068398202188405e-09)"
      ]
     },
     "execution_count": 5,
     "metadata": {},
     "output_type": "execute_result"
    }
   ],
   "source": [
    "ge=GraphEntropy(find_ind_sets(G))\n",
    "ge.set_uniform_p()\n",
    "ge.verbose_mode=True\n",
    "ge.alt_opt()\n"
   ]
  },
  {
   "cell_type": "code",
   "execution_count": 6,
   "id": "1342c752",
   "metadata": {},
   "outputs": [
    {
     "name": "stdout",
     "output_type": "stream",
     "text": [
      "We have that 1.140907878528764 / ln(2) = 1.6459821384645956\n"
     ]
    }
   ],
   "source": [
    "print('We have that 1.140907878528764 / ln(2) =', 1.140907878528764 / math.log(2))"
   ]
  },
  {
   "cell_type": "markdown",
   "id": "6a2a7cd5",
   "metadata": {},
   "source": [
    "Therefore, we conclude\n",
    "# $H_{\\kappa}(G_{13},X) \\approx 1.646$"
   ]
  },
  {
   "cell_type": "markdown",
   "id": "d5f3c357",
   "metadata": {},
   "source": [
    "# Korner Entropy of $L(G_{13})$"
   ]
  },
  {
   "cell_type": "code",
   "execution_count": 7,
   "id": "082d1cdb",
   "metadata": {},
   "outputs": [
    {
     "data": {
      "image/png": "[encoded data removed]",
      "text/plain": [
       "<Figure size 640x480 with 1 Axes>"
      ]
     },
     "metadata": {},
     "output_type": "display_data"
    }
   ],
   "source": [
    "vectors = [\n",
    "    [1, 0, 0],  #A\n",
    "    [0, 1, 0],  #B\n",
    "    [0, 0, 1],  #C\n",
    "    [0, 1, -1], #M\n",
    "    [0, 1, 1],  #L\n",
    "    [1, 0, -1], #P\n",
    "    [1, 0, 1],  #N\n",
    "    [1, -1, 0], #R\n",
    "    [1, 1, 0],  #Q\n",
    "    [1, 1, 1],  #W\n",
    "    [1, 1, -1], #Y\n",
    "    [1, -1, 1], #X\n",
    "    [-1, 1, 1]  #Z\n",
    "]\n",
    "\n",
    "orthogonal_dict = find_orthogonal_vectors(vectors)\n",
    "G = DiGraph(orthogonal_dict)\n",
    "G.vertices(sort=True)\n",
    "labels = list([\"Z\",\"C\",\"M\",\"B\",\"L\",\"R\",\"X\",\"P\",\"A\",\"N\",\"Y\",\"Q\",\"W\"]) \n",
    "\n",
    "G.relabel(perm=labels) \n",
    "G.vertices(sort=True)\n",
    "\n",
    " \n",
    "networkx_G = G.networkx_graph() \n",
    "scale = 24\n",
    "pos_dict = {\n",
    "    'W' : (0*scale, 0*scale),\n",
    "    'X' : (0*scale, -1 *scale),\n",
    "    'Y' : (math.sqrt(3)*scale/2, 1/2*scale),\n",
    "    'Z' : (-math.sqrt(3)*scale/2, 1/2*scale), \n",
    "    'M' : (-math.sqrt(3)*scale/3, 5/3 *scale),\n",
    "    'L' : (math.sqrt(3)*scale/3, 5/3 *scale),\n",
    "    'N' : (-math.sqrt(3)*scale, -1/3 *scale),\n",
    "    'P' : (-2*math.sqrt(3)*scale/3, -4/3 *scale),\n",
    "    'R' : (math.sqrt(3)*scale, -1/3*scale),\n",
    "    'Q' : (2*math.sqrt(3)*scale/3, -4/3 *scale),\n",
    "    'A' : (0*scale, 4 * scale),\n",
    "    'B' : (-2*math.sqrt(3)*scale, -2 *scale),\n",
    "    'C' : (2*math.sqrt(3)*scale, -2 *scale),\n",
    "}\n",
    "nx.draw_networkx(networkx_G, pos_dict, arrowstyle=\"<|-\")\n",
    "plt.show() "
   ]
  },
  {
   "cell_type": "code",
   "execution_count": 8,
   "id": "764474a4",
   "metadata": {},
   "outputs": [
    {
     "name": "stdout",
     "output_type": "stream",
     "text": [
      "72 sets deleted after 20 iterations\n",
      "274 sets deleted after 30 iterations\n",
      "504 sets deleted after 40 iterations\n",
      "624 sets deleted after 50 iterations\n",
      "120 sets deleted after 60 iterations\n",
      "336 sets deleted after 70 iterations\n",
      "238 sets deleted after 80 iterations\n",
      "144 sets deleted after 90 iterations\n",
      "66 sets deleted after 100 iterations\n",
      "36 sets deleted after 120 iterations\n",
      "216 sets deleted after 140 iterations\n",
      "144 sets deleted after 190 iterations\n",
      "24 sets deleted after 230 iterations\n",
      "2 sets deleted after 280 iterations: {1,6,7,8,9,14,20,21,27,28,30,31,32,36,38,39,43,44} {3,10,12,13,16,17,18,19,23,24,25,34,35,37,40,45,46,47}\n",
      "6 sets deleted after 370 iterations: {1,6,7,8,9,11,15,20,21,27,28,31,32,36,38,39,43,44} {1,2,6,7,8,9,14,20,21,26,27,28,30,32,38,39,43,44} {4,6,7,8,9,14,20,21,27,28,30,31,32,36,39,42,43,44} {10,12,13,15,16,17,18,19,23,24,25,34,35,37,42,45,46,47} {3,11,12,13,16,17,18,19,23,24,25,26,34,35,40,45,46,47} {2,3,4,10,12,16,17,18,19,23,25,34,35,37,40,45,46,47}\n",
      "72 sets deleted after 420 iterations\n",
      "520 iterations made (max: 10000)\n",
      "Graph Entropy:\n",
      "1.0061805980588454 (error bound: 1.0e-08)\n"
     ]
    },
    {
     "data": {
      "text/plain": [
       "(1.0061805980588454, 1.0272644512809848e-08)"
      ]
     },
     "execution_count": 8,
     "metadata": {},
     "output_type": "execute_result"
    }
   ],
   "source": [
    "G = directed_line_graph(G).networkx_graph()     \n",
    "ge=GraphEntropy(find_ind_sets(G))\n",
    "ge.set_uniform_p()\n",
    "ge.verbose_mode=True\n",
    "ge.alt_opt()"
   ]
  },
  {
   "cell_type": "code",
   "execution_count": 9,
   "id": "353f8681",
   "metadata": {},
   "outputs": [
    {
     "name": "stdout",
     "output_type": "stream",
     "text": [
      "We have that 1.0061805980588454  / ln(2) = 1.4516117590581876\n"
     ]
    }
   ],
   "source": [
    "print('We have that 1.0061805980588454  / ln(2) =', 1.0061805980588454  / math.log(2))"
   ]
  },
  {
   "cell_type": "markdown",
   "id": "53b552c9",
   "metadata": {},
   "source": [
    "Therefore, we conclude\n",
    "\n",
    "\n",
    "# $H_{\\kappa}(L(G_{13}),X) \\approx 1.45$"
   ]
  },
  {
   "cell_type": "code",
   "execution_count": null,
   "id": "cb7a85b3",
   "metadata": {},
   "outputs": [],
   "source": []
  }
 ],
 "metadata": {
  "kernelspec": {
   "display_name": "SageMath 10.2",
   "language": "sage",
   "name": "sagemath-10.2"
  },
  "language_info": {
   "codemirror_mode": {
    "name": "ipython",
    "version": 3
   },
   "file_extension": ".py",
   "mimetype": "text/x-python",
   "name": "python",
   "nbconvert_exporter": "python",
   "pygments_lexer": "ipython3",
   "version": "3.11.1"
  }
 },
 "nbformat": 4,
 "nbformat_minor": 5
}
